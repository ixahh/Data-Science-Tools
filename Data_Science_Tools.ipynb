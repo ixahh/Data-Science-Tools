{
  "nbformat": 4,
  "nbformat_minor": 0,
  "metadata": {
    "colab": {
      "provenance": []
    },
    "kernelspec": {
      "name": "python3",
      "display_name": "Python 3"
    },
    "language_info": {
      "name": "python"
    }
  },
  "cells": [
    {
      "cell_type": "markdown",
      "source": [
        "#Data Science Tools and Ecosystem"
      ],
      "metadata": {
        "id": "F6-wyISPZ5k0"
      }
    },
    {
      "cell_type": "markdown",
      "source": [
        "This notebook explores various tools and techniques used in the\n",
        "field of Data Science. It includes commonly used languages, libraries,\n",
        "tools, and some basic arithmetic operations using Python.\n"
      ],
      "metadata": {
        "id": "tV3Iv88MZ2Dq"
      }
    },
    {
      "cell_type": "markdown",
      "source": [
        "## Commonly Used Data Science Languages\n",
        "\n",
        "1. Python  \n",
        "2. R  \n",
        "3. SQL  \n",
        "4. Julia  \n",
        "5. Scala\n"
      ],
      "metadata": {
        "id": "Gj81lDmVZ_IG"
      }
    },
    {
      "cell_type": "markdown",
      "source": [
        "## Popular Data Science Libraries:\n",
        "\n",
        "1. Pandas  \n",
        "2. NumPy  \n",
        "3. Matplotlib  \n",
        "4. Scikit-learn  \n",
        "5. TensorFlow  \n"
      ],
      "metadata": {
        "id": "e7dtG6csaUpX"
      }
    },
    {
      "cell_type": "markdown",
      "source": [
        "## Data Science Tools\n",
        "\n",
        "| Tool Name     | Description              |\n",
        "|---------------|--------------------------|\n",
        "| Jupyter       | Interactive notebook     |\n",
        "| RStudio       | IDE for R                |\n",
        "| Apache Spark  | Big data processing      |\n",
        "| Tableau       | Data visualization tool  |\n"
      ],
      "metadata": {
        "id": "bAtHkTFlaXuP"
      }
    },
    {
      "cell_type": "markdown",
      "source": [
        "Below are examples of simple arithmetic expressions using Python.\n"
      ],
      "metadata": {
        "id": "HBVFHgVyabx-"
      }
    },
    {
      "cell_type": "code",
      "source": [
        "# This code multiplies 3 by 4 and then adds 5\n",
        "result = (3 * 4) + 5\n",
        "print(\"The result of (3 * 4) + 5 is:\", result)\n"
      ],
      "metadata": {
        "colab": {
          "base_uri": "https://localhost:8080/"
        },
        "id": "-8QVx1AkapVb",
        "outputId": "6d7263fc-d834-4aa7-d694-8ba7688e6b05"
      },
      "execution_count": 1,
      "outputs": [
        {
          "output_type": "execute_result",
          "data": {
            "text/plain": [
              "17"
            ]
          },
          "metadata": {},
          "execution_count": 1
        }
      ]
    },
    {
      "cell_type": "code",
      "source": [
        "# This code converts 200 minutes into hours by dividing by 60\n",
        "minutes = 200\n",
        "hours = minutes / 60\n",
        "print(\"200 minutes in hours is:\", hours)\n"
      ],
      "metadata": {
        "id": "1bPZ61UjaszF"
      },
      "execution_count": null,
      "outputs": []
    },
    {
      "cell_type": "markdown",
      "source": [
        "## Objectives\n",
        "\n",
        "- Learn about different languages used in Data Science  \n",
        "- Identify common tools and libraries  \n",
        "- Understand basic operations using Python  \n",
        "- Practice with Markdown and code cells  \n"
      ],
      "metadata": {
        "id": "Mwv2YaupawgO"
      }
    },
    {
      "cell_type": "markdown",
      "source": [
        "**Author:** ixahh\n"
      ],
      "metadata": {
        "id": "dSgaREX7ay-v"
      }
    }
  ]
}